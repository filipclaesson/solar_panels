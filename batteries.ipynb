{
 "cells": [
  {
   "cell_type": "code",
   "execution_count": 382,
   "metadata": {},
   "outputs": [
    {
     "name": "stdout",
     "output_type": "stream",
     "text": [
      "88\n"
     ]
    }
   ],
   "source": [
    "import pandas as pd\n",
    "import csv\n",
    "with open('test.csv') as csvfile:\n",
    "    dialect = csv.Sniffer().sniff(csvfile.read(1024))\n",
    "    csvfile.seek(0)\n",
    "    reader = csv.reader(csvfile, dialect)\n",
    "\n",
    "df = pd.read_csv('test.csv',**{key:dict(dialect.__dict__)[key] for key in ['quoting','delimiter','doublequote','quotechar']})\n",
    "\n",
    "\n",
    "bat = df[['Nr','Kapacitet','mR','maxCap']]\n",
    "bat = bat[bat['maxCap']>0]\n",
    "bat['cap_perc'] = bat['Kapacitet']/bat['maxCap']\n",
    "\n",
    "#bat = bat[bat['cap_perc']>0.75]\n",
    "bat = bat[(bat['Kapacitet']>1200) & (bat['Kapacitet']<2500)]\n",
    "bat = bat[~bat['Nr'].isin([85,86,69,70,71,72])]\n",
    "\n",
    "bat = bat.sort_values('Kapacitet')\n",
    "bat = bat.to_dict('records')\n",
    "bat_classes = []\n",
    "for i in bat:\n",
    "    bat_classes.append(Battery(num=i['Nr'],cap=i['Kapacitet'],max_cap=i['maxCap'],int_res=i['mR']))\n",
    "print(len(bat))"
   ]
  },
  {
   "cell_type": "code",
   "execution_count": 372,
   "metadata": {},
   "outputs": [],
   "source": [
    "import numpy as np\n",
    "class BatteryPack:\n",
    "    def __init__(self, size=[1,1]):\n",
    "        self.size = size\n",
    "        self.series = [PackSeries(size[1]) for i in range(size[0])]\n",
    "    \n",
    "    def is_full(self):\n",
    "        r = True\n",
    "        for s in self.series:\n",
    "            if not s.is_full():\n",
    "                r = False\n",
    "        return r\n",
    "                \n",
    "    def print_size(self):\n",
    "        print(str(self.size[0]) + 's' + str(self.size[1]) + 'p')\n",
    "    \n",
    "    def add_battery(battery,s_pos):\n",
    "        self.batteries[s,p]\n",
    "    \n",
    "    def get_diff(self):\n",
    "        series_caps = [s.sum_cap() for s in self.series]\n",
    "        return max(series_caps) - min (series_caps)\n",
    "    \n",
    "    def get_series_caps(self):\n",
    "        return[s.sum_cap() for s in self.series]\n",
    "    \n",
    "    def get_pack_cap(self):\n",
    "        return np.mean([s.sum_cap() for s in self.series])\n",
    "            \n",
    "    def print(self):\n",
    "        print('Pack cap: ' + str(self.get_pack_cap()))\n",
    "        print('Pack diff: ' + str(self.get_diff()))\n",
    "        print(self.get_series_caps())\n",
    "        for ind, s in enumerate(self.series):\n",
    "            print('Series num: ' + str(ind))\n",
    "            for b in s.batteries:\n",
    "                print('Num: ' + str(b.num) + ', Cap: ' + str(b.cap) + ', maxCap%: ' + str(round((b.cap/b.max_cap)*100,1)) + '%')\n",
    "        \n",
    "class Battery:\n",
    "    def __init__(self, num, cap, max_cap=0, int_res=0):\n",
    "        self.num = num\n",
    "        self.cap = cap\n",
    "        self.max_cap = max_cap\n",
    "        self.int_res = int_res\n",
    "        \n",
    "class PackSeries:\n",
    "    def __init__(self, length):\n",
    "        self.length = length\n",
    "        self.full = False\n",
    "        self.batteries=[]\n",
    "    \n",
    "    def is_full(self):\n",
    "        return self.full\n",
    "\n",
    "        \n",
    "    def sum_cap(self):\n",
    "        return sum([b.cap for b in self.batteries])\n",
    "    \n",
    "    def add_battery(self, battery):\n",
    "        if len(self.batteries)<self.length:\n",
    "            self.batteries.append(battery)\n",
    "            if len(self.batteries)==self.length:\n",
    "                self.full = True\n",
    "        else:\n",
    "            raise ValueError('Series Full')"
   ]
  },
  {
   "cell_type": "code",
   "execution_count": 373,
   "metadata": {},
   "outputs": [],
   "source": [
    "def chunkIt(seq, num):\n",
    "    avg = len(seq) / float(num)\n",
    "    out = []\n",
    "    last = 0.0\n",
    "\n",
    "    while last < len(seq):\n",
    "        out.append(seq[int(last):int(last + avg)])\n",
    "        last += avg\n",
    "\n",
    "    return out\n",
    "\n",
    "        \n",
    "def run_(bats,pack):\n",
    "    bats = list(chunkIt(bat_classes,4))\n",
    "    for chunk in bats:\n",
    "        random.shuffle(chunk)\n",
    "        for s in pack.series:\n",
    "            s.add_battery(chunk.pop())\n",
    "   \n",
    "    return True#{'diff':diff,'res':res,'pack':[l0,l1,l2,l3,l4,l5,l6,l7,l8,l9]}\n",
    "    "
   ]
  },
  {
   "cell_type": "code",
   "execution_count": 374,
   "metadata": {},
   "outputs": [
    {
     "name": "stdout",
     "output_type": "stream",
     "text": [
      "28.0\n",
      "Pack cap: 9176.1\n",
      "Pack diff: 28.0\n",
      "[9179.0, 9184.0, 9181.0, 9168.0, 9181.0, 9166.0, 9184.0, 9180.0, 9156.0, 9182.0]\n",
      "Series num: 0\n",
      "Num: 138, Cap: 2172.0, maxCap%: 82.0%\n",
      "Num: 128, Cap: 2289.0, maxCap%: 88.0%\n",
      "Num: 19, Cap: 2323.0, maxCap%: 105.6%\n",
      "Num: 119, Cap: 2395.0, maxCap%: 93.9%\n",
      "Series num: 1\n",
      "Num: 91, Cap: 2185.0, maxCap%: 82.5%\n",
      "Num: 126, Cap: 2285.0, maxCap%: 87.9%\n",
      "Num: 132, Cap: 2343.0, maxCap%: 106.5%\n",
      "Num: 116, Cap: 2371.0, maxCap%: 93.0%\n",
      "Series num: 2\n",
      "Num: 111, Cap: 2165.0, maxCap%: 98.4%\n",
      "Num: 135, Cap: 2264.0, maxCap%: 87.1%\n",
      "Num: 98, Cap: 2332.0, maxCap%: 91.5%\n",
      "Num: 129, Cap: 2420.0, maxCap%: 93.1%\n",
      "Series num: 3\n",
      "Num: 139, Cap: 2185.0, maxCap%: 82.5%\n",
      "Num: 134, Cap: 2260.0, maxCap%: 86.9%\n",
      "Num: 100, Cap: 2308.0, maxCap%: 90.5%\n",
      "Num: 118, Cap: 2415.0, maxCap%: 94.7%\n",
      "Series num: 4\n",
      "Num: 121, Cap: 2181.0, maxCap%: 99.1%\n",
      "Num: 52, Cap: 2277.0, maxCap%: 87.6%\n",
      "Num: 124, Cap: 2334.0, maxCap%: 89.8%\n",
      "Num: 117, Cap: 2389.0, maxCap%: 93.7%\n",
      "Series num: 5\n",
      "Num: 120, Cap: 2187.0, maxCap%: 99.4%\n",
      "Num: 48, Cap: 2268.0, maxCap%: 87.2%\n",
      "Num: 17, Cap: 2334.0, maxCap%: 106.1%\n",
      "Num: 130, Cap: 2377.0, maxCap%: 108.0%\n",
      "Series num: 6\n",
      "Num: 133, Cap: 2214.0, maxCap%: 85.2%\n",
      "Num: 41, Cap: 2230.0, maxCap%: 85.8%\n",
      "Num: 18, Cap: 2347.0, maxCap%: 106.7%\n",
      "Num: 101, Cap: 2393.0, maxCap%: 93.8%\n",
      "Series num: 7\n",
      "Num: 51, Cap: 2177.0, maxCap%: 83.7%\n",
      "Num: 136, Cap: 2288.0, maxCap%: 88.0%\n",
      "Num: 103, Cap: 2357.0, maxCap%: 92.4%\n",
      "Num: 131, Cap: 2358.0, maxCap%: 107.2%\n",
      "Series num: 8\n",
      "Num: 93, Cap: 2185.0, maxCap%: 82.5%\n",
      "Num: 53, Cap: 2298.0, maxCap%: 88.4%\n",
      "Num: 76, Cap: 2306.0, maxCap%: 88.7%\n",
      "Num: 102, Cap: 2367.0, maxCap%: 92.8%\n",
      "Series num: 9\n",
      "Num: 49, Cap: 2193.0, maxCap%: 84.3%\n",
      "Num: 92, Cap: 2263.0, maxCap%: 85.4%\n",
      "Num: 20, Cap: 2310.0, maxCap%: 105.0%\n",
      "Num: 104, Cap: 2416.0, maxCap%: 94.7%\n"
     ]
    }
   ],
   "source": [
    "import random\n",
    "imp = []\n",
    "for i in range(0,100000):\n",
    "    pack = BatteryPack(size=[10,4])\n",
    "    run_(bat_classes,pack)\n",
    "    if pack.get_diff() < 30:\n",
    "        print(pack.get_diff())\n",
    "        \n",
    "        imp.append(pack)\n",
    "        break;\n",
    "imp[0].print()"
   ]
  },
  {
   "cell_type": "code",
   "execution_count": 313,
   "metadata": {},
   "outputs": [
    {
     "data": {
      "text/plain": [
       "1924.0"
      ]
     },
     "execution_count": 313,
     "metadata": {},
     "output_type": "execute_result"
    }
   ],
   "source": [
    "imp[0].series[0].batteries[0].max_cap"
   ]
  },
  {
   "cell_type": "code",
   "execution_count": 389,
   "metadata": {},
   "outputs": [
    {
     "data": {
      "text/plain": [
       "<AxesSubplot:>"
      ]
     },
     "execution_count": 389,
     "metadata": {},
     "output_type": "execute_result"
    },
    {
     "data": {
      "image/png": "[encoded data removed]",
      "text/plain": [
       "<Figure size 432x288 with 1 Axes>"
      ]
     },
     "metadata": {
      "needs_background": "light"
     },
     "output_type": "display_data"
    }
   ],
   "source": [
    "pd.DataFrame(bat)['Kapacitet'].hist()"
   ]
  },
  {
   "cell_type": "code",
   "execution_count": null,
   "metadata": {},
   "outputs": [],
   "source": []
  }
 ],
 "metadata": {
  "kernelspec": {
   "display_name": "Python 3",
   "language": "python",
   "name": "python3"
  },
  "language_info": {
   "codemirror_mode": {
    "name": "ipython",
    "version": 3
   },
   "file_extension": ".py",
   "mimetype": "text/x-python",
   "name": "python",
   "nbconvert_exporter": "python",
   "pygments_lexer": "ipython3",
   "version": "3.7.4"
  }
 },
 "nbformat": 4,
 "nbformat_minor": 2
}
