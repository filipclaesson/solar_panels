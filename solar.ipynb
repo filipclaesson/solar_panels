{
 "cells": [
  {
   "cell_type": "code",
   "execution_count": 1,
   "metadata": {},
   "outputs": [],
   "source": [
    "import logging\n",
    "import os\n",
    "import cloudstorage as gcs"
   ]
  },
  {
   "cell_type": "code",
   "execution_count": 54,
   "metadata": {},
   "outputs": [],
   "source": [
    "import os\n",
    "os.environ['GOOGLE_APPLICATION_CREDENTIALS'] = '/Users/filipclaesson/Downloads/solar_fetch.json'"
   ]
  },
  {
   "cell_type": "markdown",
   "metadata": {},
   "source": [
    "# Write to storage (used in Cloud Function)"
   ]
  },
  {
   "cell_type": "code",
   "execution_count": 113,
   "metadata": {},
   "outputs": [
    {
     "name": "stdout",
     "output_type": "stream",
     "text": [
      "no file\n"
     ]
    },
    {
     "ename": "NameError",
     "evalue": "name 'a' is not defined",
     "output_type": "error",
     "traceback": [
      "\u001b[0;31m---------------------------------------------------------------------------\u001b[0m",
      "\u001b[0;31mNameError\u001b[0m                                 Traceback (most recent call last)",
      "\u001b[0;32m<ipython-input-113-26b596c71c75>\u001b[0m in \u001b[0;36m<module>\u001b[0;34m\u001b[0m\n\u001b[1;32m     12\u001b[0m     \u001b[0mprint\u001b[0m\u001b[0;34m(\u001b[0m\u001b[0;34m'no file'\u001b[0m\u001b[0;34m)\u001b[0m\u001b[0;34m\u001b[0m\u001b[0;34m\u001b[0m\u001b[0m\n\u001b[1;32m     13\u001b[0m     \u001b[0mnew_file\u001b[0m \u001b[0;34m=\u001b[0m \u001b[0mbucket\u001b[0m\u001b[0;34m.\u001b[0m\u001b[0mblob\u001b[0m\u001b[0;34m(\u001b[0m\u001b[0mfile_name\u001b[0m\u001b[0;34m)\u001b[0m\u001b[0;34m\u001b[0m\u001b[0;34m\u001b[0m\u001b[0m\n\u001b[0;32m---> 14\u001b[0;31m     \u001b[0mnew_file\u001b[0m\u001b[0;34m.\u001b[0m\u001b[0mupload_from_string\u001b[0m\u001b[0;34m(\u001b[0m\u001b[0mjson\u001b[0m\u001b[0;34m.\u001b[0m\u001b[0mdumps\u001b[0m\u001b[0;34m(\u001b[0m\u001b[0meval\u001b[0m\u001b[0;34m(\u001b[0m\u001b[0ma\u001b[0m\u001b[0;34m)\u001b[0m\u001b[0;34m)\u001b[0m\u001b[0;34m)\u001b[0m\u001b[0;34m\u001b[0m\u001b[0;34m\u001b[0m\u001b[0m\n\u001b[0m\u001b[1;32m     15\u001b[0m \u001b[0;32melse\u001b[0m\u001b[0;34m:\u001b[0m\u001b[0;34m\u001b[0m\u001b[0;34m\u001b[0m\u001b[0m\n\u001b[1;32m     16\u001b[0m     \u001b[0mprint\u001b[0m\u001b[0;34m(\u001b[0m\u001b[0;34m'done'\u001b[0m\u001b[0;34m)\u001b[0m\u001b[0;34m\u001b[0m\u001b[0;34m\u001b[0m\u001b[0m\n",
      "\u001b[0;31mNameError\u001b[0m: name 'a' is not defined"
     ]
    }
   ],
   "source": [
    "import json\n",
    "## File exists?\n",
    "from google.cloud import storage\n",
    "# create storage client\n",
    "storage_client = storage.Client(project='custom-hold-263221')\n",
    "# get bucket with name\n",
    "bucket = storage_client.get_bucket('solar_storage')\n",
    "# get bucket data as blob\n",
    "file_name = '2020/09/03/data_test.txt'\n",
    "blob = bucket.get_blob(file_name)\n",
    "if not storage.Blob(bucket=bucket, name=file_name).exists(storage_client):\n",
    "    print('no file')\n",
    "    new_file = bucket.blob(file_name)\n",
    "    new_file.upload_from_string(json.dumps(eval(a)))\n",
    "else:\n",
    "    print('done')"
   ]
  },
  {
   "cell_type": "markdown",
   "metadata": {},
   "source": [
    "## Create a temporary table with the storage data"
   ]
  },
  {
   "cell_type": "code",
   "execution_count": 17,
   "metadata": {},
   "outputs": [
    {
     "data": {
      "text/plain": [
       "Table(TableReference(DatasetReference('custom-hold-263221', 'solar'), 'solar_export'))"
      ]
     },
     "execution_count": 17,
     "metadata": {},
     "output_type": "execute_result"
    }
   ],
   "source": [
    "def if_tbl_exists(client, table_ref):\n",
    "    from google.cloud.exceptions import NotFound\n",
    "    try:\n",
    "        client.get_table(table_ref)\n",
    "        return True\n",
    "    except NotFound:\n",
    "        return False\n",
    "\n",
    "\n",
    "from google.cloud import bigquery\n",
    "client = bigquery.Client(project='custom-hold-263221')\n",
    "table = bigquery.Table('custom-hold-263221.solar.solar_export')\n",
    "external_config = bigquery.ExternalConfig(\"NEWLINE_DELIMITED_JSON\")\n",
    "external_config.source_uris = [\"gs://solar_storage/solar_export/*\"]\n",
    "external_config.autodetect = True\n",
    "external_config.ignore_unknown_values=False\n",
    "table.external_data_configuration = external_config\n",
    "\n",
    "if if_tbl_exists(client, table):\n",
    "    client.delete_table(table)\n",
    "    \n",
    "client.create_table(table,exists_ok=True)"
   ]
  },
  {
   "cell_type": "code",
   "execution_count": 63,
   "metadata": {},
   "outputs": [],
   "source": [
    "from google.cloud import bigquery\n",
    "\n",
    "client = bigquery.Client(project='custom-hold-263221')\n",
    "sql = \"\"\"\n",
    "    SELECT published_at,current_converted\n",
    "\n",
    "    FROM `custom-hold-263221.solar.solar_export` order by 1 desc\n",
    "\"\"\"\n",
    "\n",
    "# Run a Standard SQL query using the environment's default project\n",
    "df = client.query(sql).to_dataframe()\n",
    "\n",
    "# Run a Standard SQL query with the project set explicitly\n",
    "project_id = 'custom-hold-263221'\n",
    "df = client.query(sql, project=project_id).to_dataframe()"
   ]
  },
  {
   "cell_type": "code",
   "execution_count": 64,
   "metadata": {},
   "outputs": [],
   "source": [
    "df = df.set_index('published_at')"
   ]
  },
  {
   "cell_type": "code",
   "execution_count": 73,
   "metadata": {},
   "outputs": [
    {
     "data": {
      "text/plain": [
       "3.9724999999999997"
      ]
     },
     "execution_count": 73,
     "metadata": {},
     "output_type": "execute_result"
    }
   ],
   "source": [
    "df.loc['2020-09-14']['current_converted'].sum()/12"
   ]
  },
  {
   "cell_type": "code",
   "execution_count": 66,
   "metadata": {},
   "outputs": [
    {
     "data": {
      "text/plain": [
       "DatetimeIndex(['2020-09-14 17:17:02.895000+00:00',\n",
       "               '2020-09-14 17:11:52.103000+00:00',\n",
       "               '2020-09-14 17:06:41.796000+00:00',\n",
       "               '2020-09-14 17:01:31.275000+00:00',\n",
       "               '2020-09-14 16:56:20.809000+00:00',\n",
       "               '2020-09-14 16:51:10.264000+00:00',\n",
       "               '2020-09-14 16:45:59.795000+00:00',\n",
       "               '2020-09-14 16:40:49.438000+00:00',\n",
       "               '2020-09-14 16:35:38.909000+00:00',\n",
       "               '2020-09-14 16:30:28.417000+00:00',\n",
       "               ...\n",
       "               '2020-09-04 20:12:14.323000+00:00',\n",
       "               '2020-09-04 20:07:04.333000+00:00',\n",
       "               '2020-09-04 20:01:54.352000+00:00',\n",
       "               '2020-09-04 19:56:44.603000+00:00',\n",
       "               '2020-09-04 19:51:34.333000+00:00',\n",
       "               '2020-09-04 19:46:24.359000+00:00',\n",
       "               '2020-09-04 19:41:14.416000+00:00',\n",
       "               '2020-09-04 19:36:04.351000+00:00',\n",
       "               '2020-09-04 19:30:54.361000+00:00',\n",
       "               '2020-09-04 19:25:44.356000+00:00'],\n",
       "              dtype='datetime64[ns, UTC]', name='published_at', length=2574, freq=None)"
      ]
     },
     "execution_count": 66,
     "metadata": {},
     "output_type": "execute_result"
    }
   ],
   "source": [
    "df.index"
   ]
  },
  {
   "cell_type": "code",
   "execution_count": null,
   "metadata": {},
   "outputs": [],
   "source": []
  },
  {
   "cell_type": "code",
   "execution_count": 50,
   "metadata": {},
   "outputs": [
    {
     "data": {
      "text/html": [
       "<div>\n",
       "<style scoped>\n",
       "    .dataframe tbody tr th:only-of-type {\n",
       "        vertical-align: middle;\n",
       "    }\n",
       "\n",
       "    .dataframe tbody tr th {\n",
       "        vertical-align: top;\n",
       "    }\n",
       "\n",
       "    .dataframe thead th {\n",
       "        text-align: right;\n",
       "    }\n",
       "</style>\n",
       "<table border=\"1\" class=\"dataframe\">\n",
       "  <thead>\n",
       "    <tr style=\"text-align: right;\">\n",
       "      <th></th>\n",
       "      <th>current_converted</th>\n",
       "    </tr>\n",
       "    <tr>\n",
       "      <th>published_at</th>\n",
       "      <th></th>\n",
       "    </tr>\n",
       "  </thead>\n",
       "  <tbody>\n",
       "    <tr>\n",
       "      <td>2020-09-13 11:11:11.351000+00:00</td>\n",
       "      <td>1.00</td>\n",
       "    </tr>\n",
       "    <tr>\n",
       "      <td>2020-09-13 11:06:01.983000+00:00</td>\n",
       "      <td>1.06</td>\n",
       "    </tr>\n",
       "    <tr>\n",
       "      <td>2020-09-13 11:00:50.441000+00:00</td>\n",
       "      <td>0.69</td>\n",
       "    </tr>\n",
       "    <tr>\n",
       "      <td>2020-09-13 10:55:39.970000+00:00</td>\n",
       "      <td>0.06</td>\n",
       "    </tr>\n",
       "    <tr>\n",
       "      <td>2020-09-13 10:50:29.493000+00:00</td>\n",
       "      <td>0.57</td>\n",
       "    </tr>\n",
       "    <tr>\n",
       "      <td>2020-09-13 10:45:19.043000+00:00</td>\n",
       "      <td>0.86</td>\n",
       "    </tr>\n",
       "    <tr>\n",
       "      <td>2020-09-13 10:40:08.583000+00:00</td>\n",
       "      <td>0.75</td>\n",
       "    </tr>\n",
       "    <tr>\n",
       "      <td>2020-09-13 10:34:58.130000+00:00</td>\n",
       "      <td>1.16</td>\n",
       "    </tr>\n",
       "    <tr>\n",
       "      <td>2020-09-13 10:29:47.657000+00:00</td>\n",
       "      <td>1.52</td>\n",
       "    </tr>\n",
       "    <tr>\n",
       "      <td>2020-09-13 10:24:37.334000+00:00</td>\n",
       "      <td>0.88</td>\n",
       "    </tr>\n",
       "  </tbody>\n",
       "</table>\n",
       "</div>"
      ],
      "text/plain": [
       "                                  current_converted\n",
       "published_at                                       \n",
       "2020-09-13 11:11:11.351000+00:00               1.00\n",
       "2020-09-13 11:06:01.983000+00:00               1.06\n",
       "2020-09-13 11:00:50.441000+00:00               0.69\n",
       "2020-09-13 10:55:39.970000+00:00               0.06\n",
       "2020-09-13 10:50:29.493000+00:00               0.57\n",
       "2020-09-13 10:45:19.043000+00:00               0.86\n",
       "2020-09-13 10:40:08.583000+00:00               0.75\n",
       "2020-09-13 10:34:58.130000+00:00               1.16\n",
       "2020-09-13 10:29:47.657000+00:00               1.52\n",
       "2020-09-13 10:24:37.334000+00:00               0.88"
      ]
     },
     "execution_count": 50,
     "metadata": {},
     "output_type": "execute_result"
    }
   ],
   "source": [
    "df.sort_index(ascending=False).head(10)"
   ]
  },
  {
   "cell_type": "code",
   "execution_count": 93,
   "metadata": {},
   "outputs": [],
   "source": [
    "#df['voltage_converted'].mean()/df['current_raw'].mean()\n"
   ]
  },
  {
   "cell_type": "code",
   "execution_count": 89,
   "metadata": {},
   "outputs": [
    {
     "name": "stderr",
     "output_type": "stream",
     "text": [
      "/opt/anaconda3/lib/python3.7/site-packages/pandas/plotting/_matplotlib/converter.py:245: MatplotlibDeprecationWarning: \n",
      "The epoch2num function was deprecated in Matplotlib 3.3 and will be removed two minor releases later.\n",
      "  base = dates.epoch2num(dt.asi8 / 1.0e9)\n",
      "/opt/anaconda3/lib/python3.7/site-packages/pandas/plotting/_matplotlib/converter.py:245: MatplotlibDeprecationWarning: \n",
      "The epoch2num function was deprecated in Matplotlib 3.3 and will be removed two minor releases later.\n",
      "  base = dates.epoch2num(dt.asi8 / 1.0e9)\n"
     ]
    },
    {
     "data": {
      "text/plain": [
       "<AxesSubplot:xlabel='published_at'>"
      ]
     },
     "execution_count": 89,
     "metadata": {},
     "output_type": "execute_result"
    },
    {
     "data": {
      "image/png": "[encoded data removed]",
      "text/plain": [
       "<Figure size 432x288 with 1 Axes>"
      ]
     },
     "metadata": {
      "needs_background": "light"
     },
     "output_type": "display_data"
    }
   ],
   "source": [
    "df['current_norm'] = df['current_raw'] * (df['voltage_converted'].mean()/df['current_raw'].mean())\n",
    "df[['voltage_converted','current_norm']].plot()"
   ]
  },
  {
   "cell_type": "code",
   "execution_count": null,
   "metadata": {},
   "outputs": [],
   "source": []
  }
 ],
 "metadata": {
  "kernelspec": {
   "display_name": "Python 3",
   "language": "python",
   "name": "python3"
  },
  "language_info": {
   "codemirror_mode": {
    "name": "ipython",
    "version": 3
   },
   "file_extension": ".py",
   "mimetype": "text/x-python",
   "name": "python",
   "nbconvert_exporter": "python",
   "pygments_lexer": "ipython3",
   "version": "3.7.4"
  }
 },
 "nbformat": 4,
 "nbformat_minor": 2
}
