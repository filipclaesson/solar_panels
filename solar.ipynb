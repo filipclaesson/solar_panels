{
 "cells": [
  {
   "cell_type": "code",
   "execution_count": 1,
   "metadata": {},
   "outputs": [],
   "source": [
    "import logging\n",
    "import os\n",
    "import cloudstorage as gcs"
   ]
  },
  {
   "cell_type": "code",
   "execution_count": 54,
   "metadata": {},
   "outputs": [],
   "source": [
    "import os\n",
    "os.environ['GOOGLE_APPLICATION_CREDENTIALS'] = '/Users/filipclaesson/Downloads/solar_fetch.json'"
   ]
  },
  {
   "cell_type": "markdown",
   "metadata": {},
   "source": [
    "# Write to storage (used in Cloud Function)"
   ]
  },
  {
   "cell_type": "code",
   "execution_count": 14,
   "metadata": {},
   "outputs": [],
   "source": [
    "import json\n",
    "## File exists?\n",
    "from google.cloud import storage\n",
    "# create storage client\n",
    "storage_client = storage.Client(project='custom-hold-263221')\n",
    "# get bucket with name\n",
    "bucket = storage_client.get_bucket('solar_storage')\n",
    "# get bucket data as blob\n",
    "file_name = '2020/09/03/data_test.txt'\n",
    "blob = bucket.get_blob(file_name)\n",
    "# if not storage.Blob(bucket=bucket, name=file_name).exists(storage_client):\n",
    "#     print('no file')\n",
    "#     new_file = bucket.blob(file_name)\n",
    "#     new_file.upload_from_string(json.dumps(eval(a)))\n",
    "# else:\n",
    "#     print('done')"
   ]
  },
  {
   "cell_type": "markdown",
   "metadata": {},
   "source": [
    "## Create a temporary table with the storage data"
   ]
  },
  {
   "cell_type": "code",
   "execution_count": 33,
   "metadata": {},
   "outputs": [
    {
     "data": {
      "text/plain": [
       "Table(TableReference(DatasetReference('custom-hold-263221', 'solar'), 'solar_export'))"
      ]
     },
     "execution_count": 33,
     "metadata": {},
     "output_type": "execute_result"
    }
   ],
   "source": [
    "def if_tbl_exists(client, table_ref):\n",
    "    from google.cloud.exceptions import NotFound\n",
    "    try:\n",
    "        client.get_table(table_ref)\n",
    "        return True\n",
    "    except NotFound:\n",
    "        return False\n",
    "\n",
    "\n",
    "from google.cloud import bigquery\n",
    "client = bigquery.Client(project='custom-hold-263221')\n",
    "table = bigquery.Table('custom-hold-263221.solar.solar_export')\n",
    "external_config = bigquery.ExternalConfig(\"NEWLINE_DELIMITED_JSON\")\n",
    "external_config.source_uris = [\"gs://solar_storage/solar_export/*\"]\n",
    "#external_config.autodetect = True\n",
    "\n",
    "external_config.schema = [\n",
    "\n",
    "    bigquery.SchemaField(\"published_at\",\"TIMESTAMP\"),\n",
    "    bigquery.SchemaField(\"current_raw_avg\",\"FLOAT\"),\n",
    "    bigquery.SchemaField(\"current_converted\",\"FLOAT\"),\n",
    "    bigquery.SchemaField(\"current_raw_max\",\"FLOAT\"),\n",
    "    bigquery.SchemaField(\"current_raw_median\",\"FLOAT\"),\n",
    "    bigquery.SchemaField(\"device_id\",\"STRING\"),\n",
    "    bigquery.SchemaField(\"event\",\"STRING\"),\n",
    "    bigquery.SchemaField(\"current_raw_min\",\"FLOAT\"),\n",
    "    bigquery.SchemaField(\"current_raw_std\",\"FLOAT\"),\n",
    "    bigquery.SchemaField(\"voltage_converted\",\"FLOAT\"),\n",
    "    bigquery.SchemaField(\"voltage_raw\",\"FLOAT\"),\n",
    "    bigquery.SchemaField(\"current_raw\",\"FLOAT\"),\n",
    "    ]\n",
    "external_config.ignore_unknown_values=False\n",
    "table.external_data_configuration = external_config\n",
    "\n",
    "if if_tbl_exists(client, table):\n",
    "    client.delete_table(table)\n",
    "    \n",
    "client.create_table(table,exists_ok=True)"
   ]
  },
  {
   "cell_type": "code",
   "execution_count": 63,
   "metadata": {},
   "outputs": [],
   "source": [
    "from google.cloud import bigquery\n",
    "\n",
    "client = bigquery.Client(project='custom-hold-263221')\n",
    "sql = \"\"\"\n",
    "    SELECT *\n",
    "\n",
    "    FROM `custom-hold-263221.solar.solar_export`\n",
    "\"\"\"\n",
    "\n",
    "# Run a Standard SQL query using the environment's default project\n",
    "df = client.query(sql).to_dataframe()\n",
    "\n",
    "# Run a Standard SQL query with the project set explicitly\n",
    "project_id = 'custom-hold-263221'\n",
    "df = client.query(sql, project=project_id).to_dataframe()"
   ]
  },
  {
   "cell_type": "code",
   "execution_count": 64,
   "metadata": {},
   "outputs": [],
   "source": [
    "df = df.set_index('published_at')"
   ]
  },
  {
   "cell_type": "code",
   "execution_count": 65,
   "metadata": {},
   "outputs": [
    {
     "data": {
      "text/plain": [
       "Index(['current_raw_avg', 'current_converted', 'current_raw_max',\n",
       "       'current_raw_median', 'device_id', 'event', 'current_raw_min',\n",
       "       'current_raw_std', 'voltage_converted', 'voltage_raw', 'current_raw'],\n",
       "      dtype='object')"
      ]
     },
     "execution_count": 65,
     "metadata": {},
     "output_type": "execute_result"
    }
   ],
   "source": [
    "df.columns"
   ]
  },
  {
   "cell_type": "code",
   "execution_count": 71,
   "metadata": {},
   "outputs": [
    {
     "data": {
      "image/png": "[encoded data removed]",
      "text/plain": [
       "<Figure size 864x864 with 1 Axes>"
      ]
     },
     "metadata": {
      "needs_background": "light"
     },
     "output_type": "display_data"
    }
   ],
   "source": [
    "import matplotlib.pyplot as plt\n",
    "from matplotlib.dates import DateFormatter\n",
    "fig, ax = plt.subplots(figsize=(12, 12))\n",
    "\n",
    "\n",
    "# Add x-axis and y-axis\n",
    "ax.bar(df.loc['2020-09-25':'2020-10-01']['current_raw_avg'].index.values,\n",
    "       (df.loc['2020-09-25':'2020-10-01']['current_raw_avg']-2950)*3.3*10/4095,\n",
    "       color='purple',width=0.05)\n",
    "\n",
    "# Set title and labels for axes\n",
    "ax.set(xlabel=\"Hour\",\n",
    "       ylabel=\"Precipitation (inches)\",\n",
    "       title=\"Daily Total Precipitation\\nJune - Aug 2005 for Boulder Creek\")\n",
    "\n",
    "# Define the date format\n",
    "date_form = DateFormatter(\"%Y-%m-%d %H\")\n",
    "ax.xaxis.set_major_formatter(date_form)\n",
    "\n",
    "plt.show()\n",
    "\n",
    "#df.loc['2020-09-23':'2020-09-24']['current_raw_median'].plot()\n",
    "#date_form = DateFormatter(\"%m-%d\")\n",
    "#ax.xaxis.set_major_formatter(date_form)"
   ]
  },
  {
   "cell_type": "code",
   "execution_count": 67,
   "metadata": {},
   "outputs": [
    {
     "data": {
      "text/plain": [
       "DatetimeIndex(['2020-09-23 11:23:22.425000+00:00',\n",
       "               '2020-09-23 11:23:38.955000+00:00',\n",
       "               '2020-09-23 11:25:07.270000+00:00',\n",
       "               '2020-09-23 11:30:07.572000+00:00',\n",
       "               '2020-09-23 11:31:21.606000+00:00',\n",
       "               '2020-09-23 11:36:24.029000+00:00',\n",
       "               '2020-09-23 11:41:26.546000+00:00',\n",
       "               '2020-09-23 11:46:28.870000+00:00',\n",
       "               '2020-09-23 11:51:31.298000+00:00',\n",
       "               '2020-09-23 11:56:33.747000+00:00',\n",
       "               ...\n",
       "               '2020-09-24 23:13:44.110000+00:00',\n",
       "               '2020-09-24 23:18:46.532000+00:00',\n",
       "               '2020-09-24 23:23:48.861000+00:00',\n",
       "               '2020-09-24 23:28:51.290000+00:00',\n",
       "               '2020-09-24 23:33:53.702000+00:00',\n",
       "               '2020-09-24 23:38:56.118000+00:00',\n",
       "               '2020-09-24 23:43:58.557000+00:00',\n",
       "               '2020-09-24 23:49:01.050000+00:00',\n",
       "               '2020-09-24 23:54:03.467000+00:00',\n",
       "               '2020-09-24 23:59:05.820000+00:00'],\n",
       "              dtype='datetime64[ns, UTC]', name='published_at', length=725, freq=None)"
      ]
     },
     "execution_count": 67,
     "metadata": {},
     "output_type": "execute_result"
    }
   ],
   "source": [
    "df.loc['2020-09-23':'2020-09-25'].index"
   ]
  },
  {
   "cell_type": "code",
   "execution_count": 68,
   "metadata": {
    "scrolled": true
   },
   "outputs": [
    {
     "data": {
      "text/plain": [
       "2954.6"
      ]
     },
     "execution_count": 68,
     "metadata": {},
     "output_type": "execute_result"
    }
   ],
   "source": [
    "df.loc['2020-09-25']['current_raw_avg'].min()"
   ]
  },
  {
   "cell_type": "code",
   "execution_count": 69,
   "metadata": {},
   "outputs": [
    {
     "ename": "KeyError",
     "evalue": "'current_raw_to_volt'",
     "output_type": "error",
     "traceback": [
      "\u001b[0;31m---------------------------------------------------------------------------\u001b[0m",
      "\u001b[0;31mKeyError\u001b[0m                                  Traceback (most recent call last)",
      "\u001b[0;32m/opt/anaconda3/lib/python3.7/site-packages/pandas/core/indexes/base.py\u001b[0m in \u001b[0;36mget_loc\u001b[0;34m(self, key, method, tolerance)\u001b[0m\n\u001b[1;32m   2896\u001b[0m             \u001b[0;32mtry\u001b[0m\u001b[0;34m:\u001b[0m\u001b[0;34m\u001b[0m\u001b[0;34m\u001b[0m\u001b[0m\n\u001b[0;32m-> 2897\u001b[0;31m                 \u001b[0;32mreturn\u001b[0m \u001b[0mself\u001b[0m\u001b[0;34m.\u001b[0m\u001b[0m_engine\u001b[0m\u001b[0;34m.\u001b[0m\u001b[0mget_loc\u001b[0m\u001b[0;34m(\u001b[0m\u001b[0mkey\u001b[0m\u001b[0;34m)\u001b[0m\u001b[0;34m\u001b[0m\u001b[0;34m\u001b[0m\u001b[0m\n\u001b[0m\u001b[1;32m   2898\u001b[0m             \u001b[0;32mexcept\u001b[0m \u001b[0mKeyError\u001b[0m\u001b[0;34m:\u001b[0m\u001b[0;34m\u001b[0m\u001b[0;34m\u001b[0m\u001b[0m\n",
      "\u001b[0;32mpandas/_libs/index.pyx\u001b[0m in \u001b[0;36mpandas._libs.index.IndexEngine.get_loc\u001b[0;34m()\u001b[0m\n",
      "\u001b[0;32mpandas/_libs/index.pyx\u001b[0m in \u001b[0;36mpandas._libs.index.IndexEngine.get_loc\u001b[0;34m()\u001b[0m\n",
      "\u001b[0;32mpandas/_libs/hashtable_class_helper.pxi\u001b[0m in \u001b[0;36mpandas._libs.hashtable.PyObjectHashTable.get_item\u001b[0;34m()\u001b[0m\n",
      "\u001b[0;32mpandas/_libs/hashtable_class_helper.pxi\u001b[0m in \u001b[0;36mpandas._libs.hashtable.PyObjectHashTable.get_item\u001b[0;34m()\u001b[0m\n",
      "\u001b[0;31mKeyError\u001b[0m: 'current_raw_to_volt'",
      "\nDuring handling of the above exception, another exception occurred:\n",
      "\u001b[0;31mKeyError\u001b[0m                                  Traceback (most recent call last)",
      "\u001b[0;32m<ipython-input-69-6c5def4691a4>\u001b[0m in \u001b[0;36m<module>\u001b[0;34m\u001b[0m\n\u001b[1;32m      1\u001b[0m \u001b[0;31m### df['current_raw_to_volt'] = (df['current_raw']/4095)*3.3\u001b[0m\u001b[0;34m\u001b[0m\u001b[0;34m\u001b[0m\u001b[0;34m\u001b[0m\u001b[0m\n\u001b[0;32m----> 2\u001b[0;31m \u001b[0mdf\u001b[0m\u001b[0;34m.\u001b[0m\u001b[0mloc\u001b[0m\u001b[0;34m[\u001b[0m\u001b[0;34m'2020-09-21'\u001b[0m\u001b[0;34m]\u001b[0m\u001b[0;34m[\u001b[0m\u001b[0;34m'current_raw_to_volt'\u001b[0m\u001b[0;34m]\u001b[0m\u001b[0;34m.\u001b[0m\u001b[0mplot\u001b[0m\u001b[0;34m(\u001b[0m\u001b[0;34m)\u001b[0m\u001b[0;34m\u001b[0m\u001b[0;34m\u001b[0m\u001b[0m\n\u001b[0m",
      "\u001b[0;32m/opt/anaconda3/lib/python3.7/site-packages/pandas/core/frame.py\u001b[0m in \u001b[0;36m__getitem__\u001b[0;34m(self, key)\u001b[0m\n\u001b[1;32m   2978\u001b[0m             \u001b[0;32mif\u001b[0m \u001b[0mself\u001b[0m\u001b[0;34m.\u001b[0m\u001b[0mcolumns\u001b[0m\u001b[0;34m.\u001b[0m\u001b[0mnlevels\u001b[0m \u001b[0;34m>\u001b[0m \u001b[0;36m1\u001b[0m\u001b[0;34m:\u001b[0m\u001b[0;34m\u001b[0m\u001b[0;34m\u001b[0m\u001b[0m\n\u001b[1;32m   2979\u001b[0m                 \u001b[0;32mreturn\u001b[0m \u001b[0mself\u001b[0m\u001b[0;34m.\u001b[0m\u001b[0m_getitem_multilevel\u001b[0m\u001b[0;34m(\u001b[0m\u001b[0mkey\u001b[0m\u001b[0;34m)\u001b[0m\u001b[0;34m\u001b[0m\u001b[0;34m\u001b[0m\u001b[0m\n\u001b[0;32m-> 2980\u001b[0;31m             \u001b[0mindexer\u001b[0m \u001b[0;34m=\u001b[0m \u001b[0mself\u001b[0m\u001b[0;34m.\u001b[0m\u001b[0mcolumns\u001b[0m\u001b[0;34m.\u001b[0m\u001b[0mget_loc\u001b[0m\u001b[0;34m(\u001b[0m\u001b[0mkey\u001b[0m\u001b[0;34m)\u001b[0m\u001b[0;34m\u001b[0m\u001b[0;34m\u001b[0m\u001b[0m\n\u001b[0m\u001b[1;32m   2981\u001b[0m             \u001b[0;32mif\u001b[0m \u001b[0mis_integer\u001b[0m\u001b[0;34m(\u001b[0m\u001b[0mindexer\u001b[0m\u001b[0;34m)\u001b[0m\u001b[0;34m:\u001b[0m\u001b[0;34m\u001b[0m\u001b[0;34m\u001b[0m\u001b[0m\n\u001b[1;32m   2982\u001b[0m                 \u001b[0mindexer\u001b[0m \u001b[0;34m=\u001b[0m \u001b[0;34m[\u001b[0m\u001b[0mindexer\u001b[0m\u001b[0;34m]\u001b[0m\u001b[0;34m\u001b[0m\u001b[0;34m\u001b[0m\u001b[0m\n",
      "\u001b[0;32m/opt/anaconda3/lib/python3.7/site-packages/pandas/core/indexes/base.py\u001b[0m in \u001b[0;36mget_loc\u001b[0;34m(self, key, method, tolerance)\u001b[0m\n\u001b[1;32m   2897\u001b[0m                 \u001b[0;32mreturn\u001b[0m \u001b[0mself\u001b[0m\u001b[0;34m.\u001b[0m\u001b[0m_engine\u001b[0m\u001b[0;34m.\u001b[0m\u001b[0mget_loc\u001b[0m\u001b[0;34m(\u001b[0m\u001b[0mkey\u001b[0m\u001b[0;34m)\u001b[0m\u001b[0;34m\u001b[0m\u001b[0;34m\u001b[0m\u001b[0m\n\u001b[1;32m   2898\u001b[0m             \u001b[0;32mexcept\u001b[0m \u001b[0mKeyError\u001b[0m\u001b[0;34m:\u001b[0m\u001b[0;34m\u001b[0m\u001b[0;34m\u001b[0m\u001b[0m\n\u001b[0;32m-> 2899\u001b[0;31m                 \u001b[0;32mreturn\u001b[0m \u001b[0mself\u001b[0m\u001b[0;34m.\u001b[0m\u001b[0m_engine\u001b[0m\u001b[0;34m.\u001b[0m\u001b[0mget_loc\u001b[0m\u001b[0;34m(\u001b[0m\u001b[0mself\u001b[0m\u001b[0;34m.\u001b[0m\u001b[0m_maybe_cast_indexer\u001b[0m\u001b[0;34m(\u001b[0m\u001b[0mkey\u001b[0m\u001b[0;34m)\u001b[0m\u001b[0;34m)\u001b[0m\u001b[0;34m\u001b[0m\u001b[0;34m\u001b[0m\u001b[0m\n\u001b[0m\u001b[1;32m   2900\u001b[0m         \u001b[0mindexer\u001b[0m \u001b[0;34m=\u001b[0m \u001b[0mself\u001b[0m\u001b[0;34m.\u001b[0m\u001b[0mget_indexer\u001b[0m\u001b[0;34m(\u001b[0m\u001b[0;34m[\u001b[0m\u001b[0mkey\u001b[0m\u001b[0;34m]\u001b[0m\u001b[0;34m,\u001b[0m \u001b[0mmethod\u001b[0m\u001b[0;34m=\u001b[0m\u001b[0mmethod\u001b[0m\u001b[0;34m,\u001b[0m \u001b[0mtolerance\u001b[0m\u001b[0;34m=\u001b[0m\u001b[0mtolerance\u001b[0m\u001b[0;34m)\u001b[0m\u001b[0;34m\u001b[0m\u001b[0;34m\u001b[0m\u001b[0m\n\u001b[1;32m   2901\u001b[0m         \u001b[0;32mif\u001b[0m \u001b[0mindexer\u001b[0m\u001b[0;34m.\u001b[0m\u001b[0mndim\u001b[0m \u001b[0;34m>\u001b[0m \u001b[0;36m1\u001b[0m \u001b[0;32mor\u001b[0m \u001b[0mindexer\u001b[0m\u001b[0;34m.\u001b[0m\u001b[0msize\u001b[0m \u001b[0;34m>\u001b[0m \u001b[0;36m1\u001b[0m\u001b[0;34m:\u001b[0m\u001b[0;34m\u001b[0m\u001b[0;34m\u001b[0m\u001b[0m\n",
      "\u001b[0;32mpandas/_libs/index.pyx\u001b[0m in \u001b[0;36mpandas._libs.index.IndexEngine.get_loc\u001b[0;34m()\u001b[0m\n",
      "\u001b[0;32mpandas/_libs/index.pyx\u001b[0m in \u001b[0;36mpandas._libs.index.IndexEngine.get_loc\u001b[0;34m()\u001b[0m\n",
      "\u001b[0;32mpandas/_libs/hashtable_class_helper.pxi\u001b[0m in \u001b[0;36mpandas._libs.hashtable.PyObjectHashTable.get_item\u001b[0;34m()\u001b[0m\n",
      "\u001b[0;32mpandas/_libs/hashtable_class_helper.pxi\u001b[0m in \u001b[0;36mpandas._libs.hashtable.PyObjectHashTable.get_item\u001b[0;34m()\u001b[0m\n",
      "\u001b[0;31mKeyError\u001b[0m: 'current_raw_to_volt'"
     ]
    }
   ],
   "source": [
    "### df['current_raw_to_volt'] = (df['current_raw']/4095)*3.3\n",
    "df.loc['2020-09-21']['current_raw_to_volt'].plot()"
   ]
  },
  {
   "cell_type": "code",
   "execution_count": 204,
   "metadata": {},
   "outputs": [],
   "source": [
    "df.loc['2020-09-22'][['current_converted','current_raw']].to_csv('hej.csv')"
   ]
  },
  {
   "cell_type": "code",
   "execution_count": 202,
   "metadata": {},
   "outputs": [
    {
     "data": {
      "text/plain": [
       "DatetimeIndex(['2020-09-22 05:40:28.374000+00:00',\n",
       "               '2020-09-22 05:37:57.911000+00:00',\n",
       "               '2020-09-22 05:35:27.481000+00:00',\n",
       "               '2020-09-22 05:32:56.981000+00:00',\n",
       "               '2020-09-22 05:30:26.521000+00:00',\n",
       "               '2020-09-22 05:27:56.093000+00:00',\n",
       "               '2020-09-22 05:25:25.681000+00:00',\n",
       "               '2020-09-22 05:22:55.134000+00:00',\n",
       "               '2020-09-22 05:20:24.665000+00:00',\n",
       "               '2020-09-22 05:17:54.204000+00:00',\n",
       "               ...\n",
       "               '2020-09-04 20:12:14.323000+00:00',\n",
       "               '2020-09-04 20:07:04.333000+00:00',\n",
       "               '2020-09-04 20:01:54.352000+00:00',\n",
       "               '2020-09-04 19:56:44.603000+00:00',\n",
       "               '2020-09-04 19:51:34.333000+00:00',\n",
       "               '2020-09-04 19:46:24.359000+00:00',\n",
       "               '2020-09-04 19:41:14.416000+00:00',\n",
       "               '2020-09-04 19:36:04.351000+00:00',\n",
       "               '2020-09-04 19:30:54.361000+00:00',\n",
       "               '2020-09-04 19:25:44.356000+00:00'],\n",
       "              dtype='datetime64[ns, UTC]', name='published_at', length=4089, freq=None)"
      ]
     },
     "execution_count": 202,
     "metadata": {},
     "output_type": "execute_result"
    }
   ],
   "source": [
    "df.index"
   ]
  },
  {
   "cell_type": "code",
   "execution_count": 197,
   "metadata": {},
   "outputs": [
    {
     "data": {
      "text/html": [
       "<div>\n",
       "<style scoped>\n",
       "    .dataframe tbody tr th:only-of-type {\n",
       "        vertical-align: middle;\n",
       "    }\n",
       "\n",
       "    .dataframe tbody tr th {\n",
       "        vertical-align: top;\n",
       "    }\n",
       "\n",
       "    .dataframe thead th {\n",
       "        text-align: right;\n",
       "    }\n",
       "</style>\n",
       "<table border=\"1\" class=\"dataframe\">\n",
       "  <thead>\n",
       "    <tr style=\"text-align: right;\">\n",
       "      <th></th>\n",
       "      <th>current_converted</th>\n",
       "      <th>current_raw</th>\n",
       "    </tr>\n",
       "    <tr>\n",
       "      <th>published_at</th>\n",
       "      <th></th>\n",
       "      <th></th>\n",
       "    </tr>\n",
       "  </thead>\n",
       "  <tbody>\n",
       "    <tr>\n",
       "      <td>2020-09-21 16:45:37.372000+00:00</td>\n",
       "      <td>21.60</td>\n",
       "      <td>260.64</td>\n",
       "    </tr>\n",
       "    <tr>\n",
       "      <td>2020-09-21 16:40:37.336000+00:00</td>\n",
       "      <td>21.60</td>\n",
       "      <td>260.75</td>\n",
       "    </tr>\n",
       "    <tr>\n",
       "      <td>2020-09-21 16:35:37.238000+00:00</td>\n",
       "      <td>21.60</td>\n",
       "      <td>260.99</td>\n",
       "    </tr>\n",
       "    <tr>\n",
       "      <td>2020-09-21 16:30:37.225000+00:00</td>\n",
       "      <td>21.61</td>\n",
       "      <td>259.71</td>\n",
       "    </tr>\n",
       "    <tr>\n",
       "      <td>2020-09-21 16:25:37.224000+00:00</td>\n",
       "      <td>21.61</td>\n",
       "      <td>259.41</td>\n",
       "    </tr>\n",
       "    <tr>\n",
       "      <td>2020-09-21 16:20:37.289000+00:00</td>\n",
       "      <td>21.61</td>\n",
       "      <td>259.68</td>\n",
       "    </tr>\n",
       "    <tr>\n",
       "      <td>2020-09-21 16:15:37.188000+00:00</td>\n",
       "      <td>21.61</td>\n",
       "      <td>259.52</td>\n",
       "    </tr>\n",
       "    <tr>\n",
       "      <td>2020-09-21 16:10:37.172000+00:00</td>\n",
       "      <td>21.61</td>\n",
       "      <td>259.05</td>\n",
       "    </tr>\n",
       "    <tr>\n",
       "      <td>2020-09-21 16:05:37.212000+00:00</td>\n",
       "      <td>21.61</td>\n",
       "      <td>259.59</td>\n",
       "    </tr>\n",
       "    <tr>\n",
       "      <td>2020-09-21 16:00:37.234000+00:00</td>\n",
       "      <td>21.61</td>\n",
       "      <td>259.43</td>\n",
       "    </tr>\n",
       "    <tr>\n",
       "      <td>2020-09-21 15:55:37.138000+00:00</td>\n",
       "      <td>21.60</td>\n",
       "      <td>261.16</td>\n",
       "    </tr>\n",
       "    <tr>\n",
       "      <td>2020-09-21 15:50:37.137000+00:00</td>\n",
       "      <td>21.58</td>\n",
       "      <td>263.11</td>\n",
       "    </tr>\n",
       "    <tr>\n",
       "      <td>2020-09-21 15:45:37.118000+00:00</td>\n",
       "      <td>21.57</td>\n",
       "      <td>264.31</td>\n",
       "    </tr>\n",
       "    <tr>\n",
       "      <td>2020-09-21 15:40:37.109000+00:00</td>\n",
       "      <td>21.58</td>\n",
       "      <td>263.13</td>\n",
       "    </tr>\n",
       "    <tr>\n",
       "      <td>2020-09-21 15:35:37.092000+00:00</td>\n",
       "      <td>21.57</td>\n",
       "      <td>264.60</td>\n",
       "    </tr>\n",
       "    <tr>\n",
       "      <td>2020-09-21 15:30:37.085000+00:00</td>\n",
       "      <td>21.57</td>\n",
       "      <td>264.40</td>\n",
       "    </tr>\n",
       "    <tr>\n",
       "      <td>2020-09-21 15:25:37.067000+00:00</td>\n",
       "      <td>21.58</td>\n",
       "      <td>263.58</td>\n",
       "    </tr>\n",
       "    <tr>\n",
       "      <td>2020-09-21 15:20:37.060000+00:00</td>\n",
       "      <td>21.57</td>\n",
       "      <td>263.96</td>\n",
       "    </tr>\n",
       "    <tr>\n",
       "      <td>2020-09-21 15:15:37.041000+00:00</td>\n",
       "      <td>21.58</td>\n",
       "      <td>263.41</td>\n",
       "    </tr>\n",
       "    <tr>\n",
       "      <td>2020-09-21 15:10:37.036000+00:00</td>\n",
       "      <td>21.56</td>\n",
       "      <td>265.80</td>\n",
       "    </tr>\n",
       "  </tbody>\n",
       "</table>\n",
       "</div>"
      ],
      "text/plain": [
       "                                  current_converted  current_raw\n",
       "published_at                                                    \n",
       "2020-09-21 16:45:37.372000+00:00              21.60       260.64\n",
       "2020-09-21 16:40:37.336000+00:00              21.60       260.75\n",
       "2020-09-21 16:35:37.238000+00:00              21.60       260.99\n",
       "2020-09-21 16:30:37.225000+00:00              21.61       259.71\n",
       "2020-09-21 16:25:37.224000+00:00              21.61       259.41\n",
       "2020-09-21 16:20:37.289000+00:00              21.61       259.68\n",
       "2020-09-21 16:15:37.188000+00:00              21.61       259.52\n",
       "2020-09-21 16:10:37.172000+00:00              21.61       259.05\n",
       "2020-09-21 16:05:37.212000+00:00              21.61       259.59\n",
       "2020-09-21 16:00:37.234000+00:00              21.61       259.43\n",
       "2020-09-21 15:55:37.138000+00:00              21.60       261.16\n",
       "2020-09-21 15:50:37.137000+00:00              21.58       263.11\n",
       "2020-09-21 15:45:37.118000+00:00              21.57       264.31\n",
       "2020-09-21 15:40:37.109000+00:00              21.58       263.13\n",
       "2020-09-21 15:35:37.092000+00:00              21.57       264.60\n",
       "2020-09-21 15:30:37.085000+00:00              21.57       264.40\n",
       "2020-09-21 15:25:37.067000+00:00              21.58       263.58\n",
       "2020-09-21 15:20:37.060000+00:00              21.57       263.96\n",
       "2020-09-21 15:15:37.041000+00:00              21.58       263.41\n",
       "2020-09-21 15:10:37.036000+00:00              21.56       265.80"
      ]
     },
     "execution_count": 197,
     "metadata": {},
     "output_type": "execute_result"
    }
   ],
   "source": [
    "df.sort_index(ascending=False).head(20)"
   ]
  },
  {
   "cell_type": "code",
   "execution_count": null,
   "metadata": {},
   "outputs": [],
   "source": []
  },
  {
   "cell_type": "code",
   "execution_count": null,
   "metadata": {},
   "outputs": [],
   "source": []
  },
  {
   "cell_type": "code",
   "execution_count": null,
   "metadata": {},
   "outputs": [],
   "source": []
  },
  {
   "cell_type": "code",
   "execution_count": null,
   "metadata": {},
   "outputs": [],
   "source": [
    "\n"
   ]
  },
  {
   "cell_type": "code",
   "execution_count": 150,
   "metadata": {},
   "outputs": [
    {
     "data": {
      "text/plain": [
       "PeriodIndex(['2020-09-21 10:00', '2020-09-21 10:00', '2020-09-21 10:00',\n",
       "             '2020-09-21 10:00', '2020-09-21 10:00', '2020-09-21 10:00',\n",
       "             '2020-09-21 10:00', '2020-09-21 09:00', '2020-09-21 09:00',\n",
       "             '2020-09-21 09:00',\n",
       "             ...\n",
       "             '2020-09-04 20:00', '2020-09-04 20:00', '2020-09-04 20:00',\n",
       "             '2020-09-04 19:00', '2020-09-04 19:00', '2020-09-04 19:00',\n",
       "             '2020-09-04 19:00', '2020-09-04 19:00', '2020-09-04 19:00',\n",
       "             '2020-09-04 19:00'],\n",
       "            dtype='period[H]', name='published_at', length=3704, freq='H')"
      ]
     },
     "execution_count": 150,
     "metadata": {},
     "output_type": "execute_result"
    }
   ],
   "source": []
  },
  {
   "cell_type": "code",
   "execution_count": 191,
   "metadata": {},
   "outputs": [
    {
     "name": "stderr",
     "output_type": "stream",
     "text": [
      "/opt/anaconda3/lib/python3.7/site-packages/pandas/core/arrays/datetimes.py:1269: UserWarning: Converting to PeriodArray/Index representation will drop timezone information.\n",
      "  UserWarning,\n"
     ]
    },
    {
     "data": {
      "text/plain": [
       "<AxesSubplot:xlabel='published_at'>"
      ]
     },
     "execution_count": 191,
     "metadata": {},
     "output_type": "execute_result"
    },
    {
     "data": {
      "image/png": "[encoded data removed]",
      "text/plain": [
       "<Figure size 432x288 with 1 Axes>"
      ]
     },
     "metadata": {
      "needs_background": "light"
     },
     "output_type": "display_data"
    }
   ],
   "source": [
    "plot_df = df.copy()\n",
    "plot_df.index = plot_df.index.to_period('H')\n",
    "plot_df[(plot_df.index.hour==11) & (plot_df.index > '2020-09-01')]['current_raw'].plot()"
   ]
  },
  {
   "cell_type": "code",
   "execution_count": 184,
   "metadata": {},
   "outputs": [
    {
     "data": {
      "text/plain": [
       "3.75"
      ]
     },
     "execution_count": 184,
     "metadata": {},
     "output_type": "execute_result"
    }
   ],
   "source": [
    "plot_df[(plot_df.index.hour==7)]['current_converted'].max()"
   ]
  },
  {
   "cell_type": "code",
   "execution_count": null,
   "metadata": {},
   "outputs": [],
   "source": []
  }
 ],
 "metadata": {
  "kernelspec": {
   "display_name": "Python 3",
   "language": "python",
   "name": "python3"
  },
  "language_info": {
   "codemirror_mode": {
    "name": "ipython",
    "version": 3
   },
   "file_extension": ".py",
   "mimetype": "text/x-python",
   "name": "python",
   "nbconvert_exporter": "python",
   "pygments_lexer": "ipython3",
   "version": "3.7.4"
  }
 },
 "nbformat": 4,
 "nbformat_minor": 2
}
