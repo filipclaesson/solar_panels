{
 "cells": [
  {
   "cell_type": "code",
   "execution_count": 259,
   "metadata": {},
   "outputs": [],
   "source": [
    "import pandas as pd\n",
    "import csv\n",
    "with open('test.csv') as csvfile:\n",
    "    dialect = csv.Sniffer().sniff(csvfile.read(1024))\n",
    "    csvfile.seek(0)\n",
    "    reader = csv.reader(csvfile, dialect)\n",
    "\n",
    "df = pd.read_csv('test.csv',**{key:dict(dialect.__dict__)[key] for key in ['quoting','delimiter','doublequote','quotechar']})\n",
    "\n",
    "\n",
    "bat = df[['Nr','Kapacitet','mR','maxCap']]\n",
    "bat = bat[(bat['Kapacitet']>1900) & (bat['Kapacitet']<2500)]\n",
    "bat = bat[~bat['Nr'].isin([85,86,69,70,71,72])]\n",
    "bat = bat.sort_values('Kapacitet')\n",
    "bat = bat.to_dict('records')\n",
    "bat_classes = []\n",
    "for i in bat:\n",
    "    bat_classes.append(Battery(num=i['Nr'],cap=i['Kapacitet'],max_cap=i['Kapacitet'],int_res=i['mR']))\n"
   ]
  },
  {
   "cell_type": "code",
   "execution_count": 260,
   "metadata": {},
   "outputs": [
    {
     "data": {
      "text/plain": [
       "42"
      ]
     },
     "execution_count": 260,
     "metadata": {},
     "output_type": "execute_result"
    }
   ],
   "source": [
    "len(bat_classes)"
   ]
  },
  {
   "cell_type": "code",
   "execution_count": 283,
   "metadata": {},
   "outputs": [],
   "source": [
    "import numpy as np\n",
    "class BatteryPack:\n",
    "    def __init__(self, size=[1,1]):\n",
    "        self.size = size\n",
    "        self.series = [PackSeries(size[1]) for i in range(size[0])]\n",
    "    \n",
    "    def is_full(self):\n",
    "        r = True\n",
    "        for s in self.series:\n",
    "            if not s.is_full():\n",
    "                r = False\n",
    "        return r\n",
    "                \n",
    "    def print_size(self):\n",
    "        print(str(self.size[0]) + 's' + str(self.size[1]) + 'p')\n",
    "    \n",
    "    def add_battery(battery,s_pos):\n",
    "        self.batteries[s,p]\n",
    "    \n",
    "    def get_diff(self):\n",
    "        series_caps = [s.sum_cap() for s in self.series]\n",
    "        return max(series_caps) - min (series_caps)\n",
    "    \n",
    "    def get_series_caps(self):\n",
    "        return[s.sum_cap() for s in self.series]\n",
    "    \n",
    "    def get_pack_cap(self):\n",
    "        return np.mean([s.sum_cap() for s in self.series])\n",
    "            \n",
    "    def print(self):\n",
    "        print('Pack cap: ' + str(self.get_pack_cap()))\n",
    "        print('Pack diff: ' + str(self.get_diff()))\n",
    "        print(self.get_series_caps())\n",
    "        for ind, s in enumerate(self.series):\n",
    "            print('Series num: ' + str(ind))\n",
    "            for b in s.batteries:\n",
    "                print('Num: ' + str(b.num) + ', Cap: ' + str(b.cap) + ', maxCap%: ' + str((b.cap/c.mac_cap)/100) + '%')\n",
    "        \n",
    "class Battery:\n",
    "    def __init__(self, num, cap, max_cap=0, int_res=0):\n",
    "        self.num = num\n",
    "        self.cap = cap\n",
    "        self.max_cap = max_cap\n",
    "        self.int_res = int_res\n",
    "        \n",
    "class PackSeries:\n",
    "    def __init__(self, length):\n",
    "        self.length = length\n",
    "        self.full = False\n",
    "        self.batteries=[]\n",
    "    \n",
    "    def is_full(self):\n",
    "        return self.full\n",
    "\n",
    "        \n",
    "    def sum_cap(self):\n",
    "        return sum([b.cap for b in self.batteries])\n",
    "    \n",
    "    def add_battery(self, battery):\n",
    "        if len(self.batteries)<self.length:\n",
    "            self.batteries.append(battery)\n",
    "            if len(self.batteries)==self.length:\n",
    "                self.full = True\n",
    "        else:\n",
    "            raise ValueError('Series Full')"
   ]
  },
  {
   "cell_type": "code",
   "execution_count": 284,
   "metadata": {},
   "outputs": [],
   "source": [
    "def chunkIt(seq, num):\n",
    "    avg = len(seq) / float(num)\n",
    "    out = []\n",
    "    last = 0.0\n",
    "\n",
    "    while last < len(seq):\n",
    "        out.append(seq[int(last):int(last + avg)])\n",
    "        last += avg\n",
    "\n",
    "    return out\n",
    "\n",
    "        \n",
    "def run_(bats,pack):\n",
    "    bats = list(chunkIt(bat_classes,4))\n",
    "    for chunk in bats:\n",
    "        random.shuffle(chunk)\n",
    "        for s in pack.series:\n",
    "            s.add_battery(chunk.pop())\n",
    "   \n",
    "    return True#{'diff':diff,'res':res,'pack':[l0,l1,l2,l3,l4,l5,l6,l7,l8,l9]}\n",
    "    "
   ]
  },
  {
   "cell_type": "code",
   "execution_count": 292,
   "metadata": {},
   "outputs": [
    {
     "name": "stdout",
     "output_type": "stream",
     "text": [
      "47.0\n"
     ]
    },
    {
     "data": {
      "text/plain": [
       "[<__main__.BatteryPack at 0x121638d10>]"
      ]
     },
     "execution_count": 292,
     "metadata": {},
     "output_type": "execute_result"
    }
   ],
   "source": [
    "import random\n",
    "imp = []\n",
    "for i in range(0,100000):\n",
    "    pack = BatteryPack(size=[10,4])\n",
    "    run_(bat_classes,pack)\n",
    "    if pack.get_diff() < 50:\n",
    "        print(pack.get_diff())\n",
    "        imp.append(pack)\n",
    "imp"
   ]
  },
  {
   "cell_type": "code",
   "execution_count": 293,
   "metadata": {},
   "outputs": [
    {
     "name": "stdout",
     "output_type": "stream",
     "text": [
      "Pack cap: 8811.6\n",
      "Pack diff: 47.0\n",
      "[8823.0, 8829.0, 8826.0, 8820.0, 8825.0, 8782.0, 8813.0, 8796.0, 8819.0, 8783.0]\n",
      "Series num: 0\n",
      "Num: 84, Cap: 1937.0\n",
      "Num: 57, Cap: 2147.0\n",
      "Num: 19, Cap: 2323.0\n",
      "Num: 104, Cap: 2416.0\n",
      "Series num: 1\n",
      "Num: 43, Cap: 2018.0\n",
      "Num: 91, Cap: 2185.0\n",
      "Num: 75, Cap: 2279.0\n",
      "Num: 18, Cap: 2347.0\n",
      "Series num: 2\n",
      "Num: 54, Cap: 1970.0\n",
      "Num: 90, Cap: 2112.0\n",
      "Num: 100, Cap: 2308.0\n",
      "Num: 96, Cap: 2436.0\n",
      "Series num: 3\n",
      "Num: 40, Cap: 2041.0\n",
      "Num: 73, Cap: 2135.0\n",
      "Num: 52, Cap: 2277.0\n",
      "Num: 102, Cap: 2367.0\n",
      "Series num: 4\n",
      "Num: 81, Cap: 1904.0\n",
      "Num: 89, Cap: 2163.0\n",
      "Num: 92, Cap: 2263.0\n",
      "Num: 97, Cap: 2495.0\n",
      "Series num: 5\n",
      "Num: 55, Cap: 1957.0\n",
      "Num: 49, Cap: 2193.0\n",
      "Num: 53, Cap: 2298.0\n",
      "Num: 17, Cap: 2334.0\n",
      "Series num: 6\n",
      "Num: 79, Cap: 1976.0\n",
      "Num: 50, Cap: 2134.0\n",
      "Num: 20, Cap: 2310.0\n",
      "Num: 101, Cap: 2393.0\n",
      "Series num: 7\n",
      "Num: 56, Cap: 2067.0\n",
      "Num: 77, Cap: 2091.0\n",
      "Num: 76, Cap: 2306.0\n",
      "Num: 98, Cap: 2332.0\n",
      "Series num: 8\n",
      "Num: 74, Cap: 1924.0\n",
      "Num: 51, Cap: 2177.0\n",
      "Num: 41, Cap: 2230.0\n",
      "Num: 106, Cap: 2488.0\n",
      "Series num: 9\n",
      "Num: 83, Cap: 1973.0\n",
      "Num: 93, Cap: 2185.0\n",
      "Num: 48, Cap: 2268.0\n",
      "Num: 103, Cap: 2357.0\n"
     ]
    }
   ],
   "source": [
    "imp[0].print()"
   ]
  },
  {
   "cell_type": "code",
   "execution_count": 267,
   "metadata": {},
   "outputs": [
    {
     "data": {
      "text/plain": [
       "88.0"
      ]
     },
     "execution_count": 267,
     "metadata": {},
     "output_type": "execute_result"
    }
   ],
   "source": [
    "imp[0].get_diff()"
   ]
  }
 ],
 "metadata": {
  "kernelspec": {
   "display_name": "Python 3",
   "language": "python",
   "name": "python3"
  },
  "language_info": {
   "codemirror_mode": {
    "name": "ipython",
    "version": 3
   },
   "file_extension": ".py",
   "mimetype": "text/x-python",
   "name": "python",
   "nbconvert_exporter": "python",
   "pygments_lexer": "ipython3",
   "version": "3.7.4"
  }
 },
 "nbformat": 4,
 "nbformat_minor": 2
}
